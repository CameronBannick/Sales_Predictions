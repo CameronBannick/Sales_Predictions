{
 "cells": [
  {
   "cell_type": "markdown",
   "metadata": {
    "colab_type": "text",
    "id": "view-in-github"
   },
   "source": [
    "<a href=\"https://colab.research.google.com/github/CameronBannick/Sales_Predictions/blob/main/05_Sales_Predictions.ipynb\" target=\"_parent\"><img src=\"https://colab.research.google.com/assets/colab-badge.svg\" alt=\"Open In Colab\"/></a>"
   ]
  },
  {
   "cell_type": "markdown",
   "metadata": {},
   "source": [
    "# Library and Data Imports"
   ]
  },
  {
   "cell_type": "code",
   "execution_count": 1,
   "metadata": {
    "id": "hF1ZsgHWuDhE"
   },
   "outputs": [],
   "source": [
    "#standard imports \n",
    "import pandas as pd\n",
    "import numpy as np\n",
    "#data visualization impports\n",
    "import matplotlib.pyplot as plt\n",
    "import seaborn as sns\n",
    "#sklearn imports\n",
    "from sklearn.compose import make_column_transformer, make_column_selector\n",
    "from sklearn.ensemble import BaggingRegressor\n",
    "from sklearn.metrics import r2_score, mean_squared_error, mean_absolute_error\n",
    "from sklearn.model_selection import train_test_split\n",
    "from sklearn.linear_model import LinearRegression\n",
    "from sklearn.pipeline import make_pipeline\n",
    "from sklearn.preprocessing import StandardScaler, OneHotEncoder\n",
    "from sklearn import set_config\n",
    "set_config(display='diagram')"
   ]
  },
  {
   "cell_type": "code",
   "execution_count": 3,
   "metadata": {
    "colab": {
     "base_uri": "https://localhost:8080/",
     "height": 357
    },
    "id": "nDFWmOoYubnf",
    "outputId": "38825247-39ee-4079-c66e-e6cfe60ed60c"
   },
   "outputs": [
    {
     "data": {
      "text/html": [
       "<div>\n",
       "<style scoped>\n",
       "    .dataframe tbody tr th:only-of-type {\n",
       "        vertical-align: middle;\n",
       "    }\n",
       "\n",
       "    .dataframe tbody tr th {\n",
       "        vertical-align: top;\n",
       "    }\n",
       "\n",
       "    .dataframe thead th {\n",
       "        text-align: right;\n",
       "    }\n",
       "</style>\n",
       "<table border=\"1\" class=\"dataframe\">\n",
       "  <thead>\n",
       "    <tr style=\"text-align: right;\">\n",
       "      <th></th>\n",
       "      <th>Item_Identifier</th>\n",
       "      <th>Item_Weight</th>\n",
       "      <th>Item_Fat_Content</th>\n",
       "      <th>Item_Visibility</th>\n",
       "      <th>Item_Type</th>\n",
       "      <th>Item_MRP</th>\n",
       "      <th>Outlet_Identifier</th>\n",
       "      <th>Outlet_Establishment_Year</th>\n",
       "      <th>Outlet_Size</th>\n",
       "      <th>Outlet_Location_Type</th>\n",
       "      <th>Outlet_Type</th>\n",
       "      <th>Item_Outlet_Sales</th>\n",
       "    </tr>\n",
       "  </thead>\n",
       "  <tbody>\n",
       "    <tr>\n",
       "      <th>0</th>\n",
       "      <td>FDA15</td>\n",
       "      <td>9.30</td>\n",
       "      <td>Low Fat</td>\n",
       "      <td>0.016047</td>\n",
       "      <td>Dairy</td>\n",
       "      <td>249.8092</td>\n",
       "      <td>OUT049</td>\n",
       "      <td>1999</td>\n",
       "      <td>Medium</td>\n",
       "      <td>Tier 1</td>\n",
       "      <td>Supermarket Type1</td>\n",
       "      <td>3735.1380</td>\n",
       "    </tr>\n",
       "    <tr>\n",
       "      <th>1</th>\n",
       "      <td>DRC01</td>\n",
       "      <td>5.92</td>\n",
       "      <td>Regular</td>\n",
       "      <td>0.019278</td>\n",
       "      <td>Soft Drinks</td>\n",
       "      <td>48.2692</td>\n",
       "      <td>OUT018</td>\n",
       "      <td>2009</td>\n",
       "      <td>Medium</td>\n",
       "      <td>Tier 3</td>\n",
       "      <td>Supermarket Type2</td>\n",
       "      <td>443.4228</td>\n",
       "    </tr>\n",
       "    <tr>\n",
       "      <th>2</th>\n",
       "      <td>FDN15</td>\n",
       "      <td>17.50</td>\n",
       "      <td>Low Fat</td>\n",
       "      <td>0.016760</td>\n",
       "      <td>Meat</td>\n",
       "      <td>141.6180</td>\n",
       "      <td>OUT049</td>\n",
       "      <td>1999</td>\n",
       "      <td>Medium</td>\n",
       "      <td>Tier 1</td>\n",
       "      <td>Supermarket Type1</td>\n",
       "      <td>2097.2700</td>\n",
       "    </tr>\n",
       "    <tr>\n",
       "      <th>3</th>\n",
       "      <td>FDX07</td>\n",
       "      <td>19.20</td>\n",
       "      <td>Regular</td>\n",
       "      <td>0.000000</td>\n",
       "      <td>Fruits and Vegetables</td>\n",
       "      <td>182.0950</td>\n",
       "      <td>OUT010</td>\n",
       "      <td>1998</td>\n",
       "      <td>NaN</td>\n",
       "      <td>Tier 3</td>\n",
       "      <td>Grocery Store</td>\n",
       "      <td>732.3800</td>\n",
       "    </tr>\n",
       "    <tr>\n",
       "      <th>4</th>\n",
       "      <td>NCD19</td>\n",
       "      <td>8.93</td>\n",
       "      <td>Low Fat</td>\n",
       "      <td>0.000000</td>\n",
       "      <td>Household</td>\n",
       "      <td>53.8614</td>\n",
       "      <td>OUT013</td>\n",
       "      <td>1987</td>\n",
       "      <td>High</td>\n",
       "      <td>Tier 3</td>\n",
       "      <td>Supermarket Type1</td>\n",
       "      <td>994.7052</td>\n",
       "    </tr>\n",
       "  </tbody>\n",
       "</table>\n",
       "</div>"
      ],
      "text/plain": [
       "  Item_Identifier  Item_Weight Item_Fat_Content  Item_Visibility  \\\n",
       "0           FDA15         9.30          Low Fat         0.016047   \n",
       "1           DRC01         5.92          Regular         0.019278   \n",
       "2           FDN15        17.50          Low Fat         0.016760   \n",
       "3           FDX07        19.20          Regular         0.000000   \n",
       "4           NCD19         8.93          Low Fat         0.000000   \n",
       "\n",
       "               Item_Type  Item_MRP Outlet_Identifier  \\\n",
       "0                  Dairy  249.8092            OUT049   \n",
       "1            Soft Drinks   48.2692            OUT018   \n",
       "2                   Meat  141.6180            OUT049   \n",
       "3  Fruits and Vegetables  182.0950            OUT010   \n",
       "4              Household   53.8614            OUT013   \n",
       "\n",
       "   Outlet_Establishment_Year Outlet_Size Outlet_Location_Type  \\\n",
       "0                       1999      Medium               Tier 1   \n",
       "1                       2009      Medium               Tier 3   \n",
       "2                       1999      Medium               Tier 1   \n",
       "3                       1998         NaN               Tier 3   \n",
       "4                       1987        High               Tier 3   \n",
       "\n",
       "         Outlet_Type  Item_Outlet_Sales  \n",
       "0  Supermarket Type1          3735.1380  \n",
       "1  Supermarket Type2           443.4228  \n",
       "2  Supermarket Type1          2097.2700  \n",
       "3      Grocery Store           732.3800  \n",
       "4  Supermarket Type1           994.7052  "
      ]
     },
     "execution_count": 3,
     "metadata": {},
     "output_type": "execute_result"
    }
   ],
   "source": [
    "#defining filepath\n",
    "filename = 'DATA/sales_predictions.csv'\n",
    "#import data\n",
    "df = pd.read_csv(filename)\n",
    "#view data\n",
    "df.head()"
   ]
  },
  {
   "cell_type": "code",
   "execution_count": 4,
   "metadata": {
    "colab": {
     "base_uri": "https://localhost:8080/"
    },
    "id": "zJGdRAfc6b1g",
    "outputId": "2f035074-d7b8-4f17-d44f-8725741910b7"
   },
   "outputs": [
    {
     "data": {
      "text/plain": [
       "0"
      ]
     },
     "execution_count": 4,
     "metadata": {},
     "output_type": "execute_result"
    }
   ],
   "source": [
    "#check for duplicate data\n",
    "df.duplicated().sum()"
   ]
  },
  {
   "cell_type": "code",
   "execution_count": 5,
   "metadata": {
    "colab": {
     "base_uri": "https://localhost:8080/"
    },
    "id": "Tfqqt59o7Dux",
    "outputId": "351ee031-f842-41e1-be40-01d77c6fdeac"
   },
   "outputs": [
    {
     "name": "stdout",
     "output_type": "stream",
     "text": [
      "<class 'pandas.core.frame.DataFrame'>\n",
      "RangeIndex: 8523 entries, 0 to 8522\n",
      "Data columns (total 12 columns):\n",
      " #   Column                     Non-Null Count  Dtype  \n",
      "---  ------                     --------------  -----  \n",
      " 0   Item_Identifier            8523 non-null   object \n",
      " 1   Item_Weight                7060 non-null   float64\n",
      " 2   Item_Fat_Content           8523 non-null   object \n",
      " 3   Item_Visibility            8523 non-null   float64\n",
      " 4   Item_Type                  8523 non-null   object \n",
      " 5   Item_MRP                   8523 non-null   float64\n",
      " 6   Outlet_Identifier          8523 non-null   object \n",
      " 7   Outlet_Establishment_Year  8523 non-null   int64  \n",
      " 8   Outlet_Size                6113 non-null   object \n",
      " 9   Outlet_Location_Type       8523 non-null   object \n",
      " 10  Outlet_Type                8523 non-null   object \n",
      " 11  Item_Outlet_Sales          8523 non-null   float64\n",
      "dtypes: float64(4), int64(1), object(7)\n",
      "memory usage: 799.2+ KB\n"
     ]
    }
   ],
   "source": [
    "#inspecting info\n",
    "df.info()"
   ]
  },
  {
   "cell_type": "code",
   "execution_count": 6,
   "metadata": {
    "colab": {
     "base_uri": "https://localhost:8080/"
    },
    "id": "y4_OJy2S7Y3D",
    "outputId": "be3b4ed0-f1fe-48a0-cd6c-79577acf9f0c"
   },
   "outputs": [
    {
     "data": {
      "text/plain": [
       "Item_Identifier                 0\n",
       "Item_Weight                  1463\n",
       "Item_Fat_Content                0\n",
       "Item_Visibility                 0\n",
       "Item_Type                       0\n",
       "Item_MRP                        0\n",
       "Outlet_Identifier               0\n",
       "Outlet_Establishment_Year       0\n",
       "Outlet_Size                  2410\n",
       "Outlet_Location_Type            0\n",
       "Outlet_Type                     0\n",
       "Item_Outlet_Sales               0\n",
       "dtype: int64"
      ]
     },
     "execution_count": 6,
     "metadata": {},
     "output_type": "execute_result"
    }
   ],
   "source": [
    "#check for missing data\n",
    "df.isna().sum()"
   ]
  },
  {
   "cell_type": "code",
   "execution_count": 7,
   "metadata": {
    "colab": {
     "base_uri": "https://localhost:8080/",
     "height": 206
    },
    "id": "1aNutdkq80_E",
    "outputId": "876aa3a0-d647-4a2d-8623-611d26f13c83"
   },
   "outputs": [
    {
     "data": {
      "text/html": [
       "<div>\n",
       "<style scoped>\n",
       "    .dataframe tbody tr th:only-of-type {\n",
       "        vertical-align: middle;\n",
       "    }\n",
       "\n",
       "    .dataframe tbody tr th {\n",
       "        vertical-align: top;\n",
       "    }\n",
       "\n",
       "    .dataframe thead th {\n",
       "        text-align: right;\n",
       "    }\n",
       "</style>\n",
       "<table border=\"1\" class=\"dataframe\">\n",
       "  <thead>\n",
       "    <tr style=\"text-align: right;\">\n",
       "      <th></th>\n",
       "      <th>Item_Identifier</th>\n",
       "      <th>Item_Fat_Content</th>\n",
       "      <th>Item_Visibility</th>\n",
       "      <th>Item_Type</th>\n",
       "      <th>Item_MRP</th>\n",
       "      <th>Outlet_Establishment_Year</th>\n",
       "      <th>Outlet_Type</th>\n",
       "      <th>Item_Outlet_Sales</th>\n",
       "    </tr>\n",
       "  </thead>\n",
       "  <tbody>\n",
       "    <tr>\n",
       "      <th>0</th>\n",
       "      <td>FDA15</td>\n",
       "      <td>Low Fat</td>\n",
       "      <td>0.016047</td>\n",
       "      <td>Dairy</td>\n",
       "      <td>249.8092</td>\n",
       "      <td>1999</td>\n",
       "      <td>Supermarket Type1</td>\n",
       "      <td>3735.1380</td>\n",
       "    </tr>\n",
       "    <tr>\n",
       "      <th>1</th>\n",
       "      <td>DRC01</td>\n",
       "      <td>Regular</td>\n",
       "      <td>0.019278</td>\n",
       "      <td>Soft Drinks</td>\n",
       "      <td>48.2692</td>\n",
       "      <td>2009</td>\n",
       "      <td>Supermarket Type2</td>\n",
       "      <td>443.4228</td>\n",
       "    </tr>\n",
       "    <tr>\n",
       "      <th>2</th>\n",
       "      <td>FDN15</td>\n",
       "      <td>Low Fat</td>\n",
       "      <td>0.016760</td>\n",
       "      <td>Meat</td>\n",
       "      <td>141.6180</td>\n",
       "      <td>1999</td>\n",
       "      <td>Supermarket Type1</td>\n",
       "      <td>2097.2700</td>\n",
       "    </tr>\n",
       "    <tr>\n",
       "      <th>3</th>\n",
       "      <td>FDX07</td>\n",
       "      <td>Regular</td>\n",
       "      <td>0.000000</td>\n",
       "      <td>Fruits and Vegetables</td>\n",
       "      <td>182.0950</td>\n",
       "      <td>1998</td>\n",
       "      <td>Grocery Store</td>\n",
       "      <td>732.3800</td>\n",
       "    </tr>\n",
       "    <tr>\n",
       "      <th>4</th>\n",
       "      <td>NCD19</td>\n",
       "      <td>Low Fat</td>\n",
       "      <td>0.000000</td>\n",
       "      <td>Household</td>\n",
       "      <td>53.8614</td>\n",
       "      <td>1987</td>\n",
       "      <td>Supermarket Type1</td>\n",
       "      <td>994.7052</td>\n",
       "    </tr>\n",
       "  </tbody>\n",
       "</table>\n",
       "</div>"
      ],
      "text/plain": [
       "  Item_Identifier Item_Fat_Content  Item_Visibility              Item_Type  \\\n",
       "0           FDA15          Low Fat         0.016047                  Dairy   \n",
       "1           DRC01          Regular         0.019278            Soft Drinks   \n",
       "2           FDN15          Low Fat         0.016760                   Meat   \n",
       "3           FDX07          Regular         0.000000  Fruits and Vegetables   \n",
       "4           NCD19          Low Fat         0.000000              Household   \n",
       "\n",
       "   Item_MRP  Outlet_Establishment_Year        Outlet_Type  Item_Outlet_Sales  \n",
       "0  249.8092                       1999  Supermarket Type1          3735.1380  \n",
       "1   48.2692                       2009  Supermarket Type2           443.4228  \n",
       "2  141.6180                       1999  Supermarket Type1          2097.2700  \n",
       "3  182.0950                       1998      Grocery Store           732.3800  \n",
       "4   53.8614                       1987  Supermarket Type1           994.7052  "
      ]
     },
     "execution_count": 7,
     "metadata": {},
     "output_type": "execute_result"
    }
   ],
   "source": [
    "#dropping columns deemed irrelevant\n",
    "df = df.drop(columns=['Item_Weight', 'Outlet_Size', 'Outlet_Identifier', 'Outlet_Location_Type' ])\n",
    "df.head()"
   ]
  },
  {
   "cell_type": "code",
   "execution_count": 8,
   "metadata": {
    "colab": {
     "base_uri": "https://localhost:8080/"
    },
    "id": "q0rZumRB9mQk",
    "outputId": "43b3e495-2766-4bab-d89d-4633817f9a38"
   },
   "outputs": [
    {
     "data": {
      "text/plain": [
       "Item_Identifier              0\n",
       "Item_Fat_Content             0\n",
       "Item_Visibility              0\n",
       "Item_Type                    0\n",
       "Item_MRP                     0\n",
       "Outlet_Establishment_Year    0\n",
       "Outlet_Type                  0\n",
       "Item_Outlet_Sales            0\n",
       "dtype: int64"
      ]
     },
     "execution_count": 8,
     "metadata": {},
     "output_type": "execute_result"
    }
   ],
   "source": [
    "#confirming there are no more missing values\n",
    "df.isna().sum()"
   ]
  },
  {
   "cell_type": "code",
   "execution_count": 9,
   "metadata": {
    "colab": {
     "base_uri": "https://localhost:8080/"
    },
    "id": "VQ_ukW7V-AxB",
    "outputId": "3ed8ec31-1476-4757-f697-a3b3733b73ce"
   },
   "outputs": [
    {
     "data": {
      "text/plain": [
       "Low Fat    5089\n",
       "Regular    2889\n",
       "LF          316\n",
       "reg         117\n",
       "low fat     112\n",
       "Name: Item_Fat_Content, dtype: int64"
      ]
     },
     "execution_count": 9,
     "metadata": {},
     "output_type": "execute_result"
    }
   ],
   "source": [
    "#inspecting values for feature\n",
    "df['Item_Fat_Content'].value_counts()"
   ]
  },
  {
   "cell_type": "code",
   "execution_count": 10,
   "metadata": {
    "colab": {
     "base_uri": "https://localhost:8080/"
    },
    "id": "ohBj1Tq1-y4l",
    "outputId": "da05ed39-a890-4830-a088-e83eec2107b4"
   },
   "outputs": [
    {
     "data": {
      "text/plain": [
       "Low Fat    5517\n",
       "Regular    3006\n",
       "Name: Item_Fat_Content, dtype: int64"
      ]
     },
     "execution_count": 10,
     "metadata": {},
     "output_type": "execute_result"
    }
   ],
   "source": [
    "#reverting redundant values for consistency\n",
    "df['Item_Fat_Content'] = df['Item_Fat_Content'].replace('LF', 'Low Fat')\n",
    "df['Item_Fat_Content'] = df['Item_Fat_Content'].replace('low fat', 'Low Fat')\n",
    "df['Item_Fat_Content'] = df['Item_Fat_Content'].replace('reg', 'Regular')\n",
    "df['Item_Fat_Content'].value_counts()"
   ]
  },
  {
   "cell_type": "code",
   "execution_count": 11,
   "metadata": {
    "colab": {
     "base_uri": "https://localhost:8080/"
    },
    "id": "uW2D_rgZAQec",
    "outputId": "e76a15f5-1655-4695-f127-e7be18254e16"
   },
   "outputs": [
    {
     "data": {
      "text/plain": [
       "Fruits and Vegetables    1232\n",
       "Snack Foods              1200\n",
       "Household                 910\n",
       "Frozen Foods              856\n",
       "Dairy                     682\n",
       "Canned                    649\n",
       "Baking Goods              648\n",
       "Health and Hygiene        520\n",
       "Soft Drinks               445\n",
       "Meat                      425\n",
       "Breads                    251\n",
       "Hard Drinks               214\n",
       "Others                    169\n",
       "Starchy Foods             148\n",
       "Breakfast                 110\n",
       "Seafood                    64\n",
       "Name: Item_Type, dtype: int64"
      ]
     },
     "execution_count": 11,
     "metadata": {},
     "output_type": "execute_result"
    }
   ],
   "source": [
    "#inspecting values for features \n",
    "df['Item_Type'].value_counts()"
   ]
  },
  {
   "cell_type": "code",
   "execution_count": 23,
   "metadata": {
    "colab": {
     "base_uri": "https://localhost:8080/"
    },
    "id": "ZuVrE43ZCHrr",
    "outputId": "ad79b355-85d9-4541-a2ef-bd8c6dba1e0f"
   },
   "outputs": [
    {
     "data": {
      "text/plain": [
       "Supermarket Type1    5577\n",
       "Grocery Store        1083\n",
       "Supermarket Type3     935\n",
       "Supermarket Type2     928\n",
       "Name: Outlet_Type, dtype: int64"
      ]
     },
     "execution_count": 23,
     "metadata": {},
     "output_type": "execute_result"
    }
   ],
   "source": [
    "#inspecting value counts for feature\n",
    "df['Outlet_Type'].value_counts()"
   ]
  },
  {
   "cell_type": "markdown",
   "metadata": {
    "id": "zvbGo04lzzNE"
   },
   "source": [
    "# Data Visualizations"
   ]
  },
  {
   "cell_type": "markdown",
   "metadata": {},
   "source": [
    "## Creating Variables for Feature Statistics"
   ]
  },
  {
   "cell_type": "markdown",
   "metadata": {},
   "source": [
    "### Item MRP"
   ]
  },
  {
   "cell_type": "code",
   "execution_count": 12,
   "metadata": {
    "colab": {
     "base_uri": "https://localhost:8080/"
    },
    "id": "6wXP7HCSCbSG",
    "outputId": "63e249a7-4a00-4437-f859-f9b8ab9eac2b"
   },
   "outputs": [
    {
     "data": {
      "text/plain": [
       "31.29"
      ]
     },
     "execution_count": 12,
     "metadata": {},
     "output_type": "execute_result"
    }
   ],
   "source": [
    "#defining item_mrp minimum\n",
    "item_mrp_min = df['Item_MRP'].min().round(2)\n",
    "item_mrp_min"
   ]
  },
  {
   "cell_type": "code",
   "execution_count": 13,
   "metadata": {
    "colab": {
     "base_uri": "https://localhost:8080/"
    },
    "id": "WgXTOBZLF8yQ",
    "outputId": "2d7141d3-f5bd-4517-f63c-67d9aebb7d7c"
   },
   "outputs": [
    {
     "data": {
      "text/plain": [
       "140.99"
      ]
     },
     "execution_count": 13,
     "metadata": {},
     "output_type": "execute_result"
    }
   ],
   "source": [
    "#defining item_mrp mean\n",
    "item_mrp_mean = df['Item_MRP'].mean().round(2)\n",
    "item_mrp_mean"
   ]
  },
  {
   "cell_type": "code",
   "execution_count": 14,
   "metadata": {
    "colab": {
     "base_uri": "https://localhost:8080/"
    },
    "id": "ByjxvfrcGMso",
    "outputId": "aefbcccf-9ab9-4f07-f69b-954f51224dd4"
   },
   "outputs": [
    {
     "data": {
      "text/plain": [
       "266.89"
      ]
     },
     "execution_count": 14,
     "metadata": {},
     "output_type": "execute_result"
    }
   ],
   "source": [
    "#defining item_mrp maximum\n",
    "item_mrp_max = df['Item_MRP'].max().round(2)\n",
    "item_mrp_max"
   ]
  },
  {
   "cell_type": "markdown",
   "metadata": {
    "id": "wUZiHny2GkmG"
   },
   "source": [
    "### Item Outlet Sales"
   ]
  },
  {
   "cell_type": "code",
   "execution_count": 15,
   "metadata": {
    "colab": {
     "base_uri": "https://localhost:8080/"
    },
    "id": "F7M37VP5GoBR",
    "outputId": "7edbd131-6131-4a29-b098-397281b103e7"
   },
   "outputs": [
    {
     "data": {
      "text/plain": [
       "33.29"
      ]
     },
     "execution_count": 15,
     "metadata": {},
     "output_type": "execute_result"
    }
   ],
   "source": [
    "#defining item_sales minimum\n",
    "item_sales_min = df['Item_Outlet_Sales'].min().round(2)\n",
    "item_sales_min"
   ]
  },
  {
   "cell_type": "code",
   "execution_count": 16,
   "metadata": {
    "colab": {
     "base_uri": "https://localhost:8080/"
    },
    "id": "cpZ2OQzZG7YS",
    "outputId": "69e48bff-536f-404b-daa9-a975757658f2"
   },
   "outputs": [
    {
     "data": {
      "text/plain": [
       "2181.29"
      ]
     },
     "execution_count": 16,
     "metadata": {},
     "output_type": "execute_result"
    }
   ],
   "source": [
    "#defining item_sales mean\n",
    "item_sales_mean = df['Item_Outlet_Sales'].mean().round(2)\n",
    "item_sales_mean"
   ]
  },
  {
   "cell_type": "code",
   "execution_count": 24,
   "metadata": {
    "colab": {
     "base_uri": "https://localhost:8080/"
    },
    "id": "yHLUa3biHHfL",
    "outputId": "707015bd-bc4e-405d-86a8-41a118dd99c2"
   },
   "outputs": [
    {
     "data": {
      "text/plain": [
       "13086.96"
      ]
     },
     "execution_count": 24,
     "metadata": {},
     "output_type": "execute_result"
    }
   ],
   "source": [
    "#defining item sales maximum  \n",
    "item_sales_max = df['Item_Outlet_Sales'].max().round(2)\n",
    "item_sales_max"
   ]
  },
  {
   "cell_type": "markdown",
   "metadata": {
    "colab": {
     "base_uri": "https://localhost:8080/",
     "height": 512
    },
    "id": "V8R3e3Rlz8NX",
    "outputId": "fad78291-3ff3-411b-8e13-d60ac77a9664"
   },
   "source": [
    "## Data Visualization \n",
    "\n"
   ]
  },
  {
   "cell_type": "code",
   "execution_count": 27,
   "metadata": {
    "colab": {
     "base_uri": "https://localhost:8080/",
     "height": 394
    },
    "id": "15h1K71OEc51",
    "outputId": "d4addcd8-2188-4a49-ec48-1ea65184c1f4"
   },
   "outputs": [
    {
     "data": {
      "image/png": "[encoded data removed]",
      "text/plain": [
       "<Figure size 640x480 with 1 Axes>"
      ]
     },
     "metadata": {},
     "output_type": "display_data"
    }
   ],
   "source": [
    "#creating histogram for Item_Outlet_Sales feature\n",
    "plt.style.use('ggplot')\n",
    "fig, ax = plt.subplots()\n",
    "ax.hist(df['Item_Outlet_Sales'])\n",
    "ax.set_title('Count of items by outlet sales')\n",
    "ax.set_xlabel('Item outlet sales ($)')\n",
    "ax.set_ylabel('Item count')\n",
    "ax.axvline(item_sales_mean, color='Black', linestyle='--', label=f\"Mean Price= ${item_sales_mean}\" )\n",
    "ax.axvline(item_sales_min, color='Brown', linestyle='--', label=f\"Minimum Price= ${item_sales_min}\")\n",
    "ax.axvline(item_sales_max, color='Green', linestyle='--', label=f\"Maximum Prics =${item_sales_max}\")\n",
    "ax.legend()\n",
    "plt.show()"
   ]
  },
  {
   "cell_type": "markdown",
   "metadata": {
    "id": "eav8rdtCIVaG"
   },
   "source": [
    "The Histogram above shows how many items are bringing in  a certain amount of outlet sales. Most of the items sell between 33 (see labeled minimum) and about 2,500 dollars. There is still around 1,500 instances each between 2,500 and 3,800 dollars, but a significant drop after past 4,000 dollars. However, even though the maximum is 13086.96 dollars, a good amount of those are most likely outliers."
   ]
  },
  {
   "cell_type": "code",
   "execution_count": 30,
   "metadata": {
    "colab": {
     "base_uri": "https://localhost:8080/",
     "height": 399
    },
    "id": "7TCuZLOTIVKN",
    "outputId": "5ae397a9-35cf-4ec5-ee18-8867ce864081"
   },
   "outputs": [
    {
     "data": {
      "image/png": "[encoded data removed]",
      "text/plain": [
       "<Figure size 640x480 with 1 Axes>"
      ]
     },
     "metadata": {},
     "output_type": "display_data"
    }
   ],
   "source": [
    "#creating boxplot for Item_Outlet_Sales\n",
    "plt.style.use('ggplot')\n",
    "fig, ax = plt.subplots()\n",
    "ax.boxplot(df['Item_Outlet_Sales'])\n",
    "ax.set_title('Count of items by outlet sales')\n",
    "plt.show()"
   ]
  },
  {
   "cell_type": "markdown",
   "metadata": {},
   "source": [
    "The boxplot tells us that all the black circles past the box itself are outliers. Thats roughly a little over 6,000 dollars. The two black lines around the box are our minimum and maximum shown in the previous visual, but the box itself is where most of the money is being made. Products bringing in 1,000 to 3,000 dollars in Item Outlet Sales are selling the most."
   ]
  },
  {
   "cell_type": "code",
   "execution_count": 37,
   "metadata": {
    "colab": {
     "base_uri": "https://localhost:8080/",
     "height": 457
    },
    "id": "tHAfq3alHcNK",
    "outputId": "872f43b1-5205-4515-e624-2dde19e1dcd8"
   },
   "outputs": [
    {
     "data": {
      "text/plain": [
       "Item_Type\n",
       "Baking Goods    1952.97\n",
       "Breads          2204.13\n",
       "Breakfast       2111.81\n",
       "Canned          2225.19\n",
       "Dairy           2232.54\n",
       "Name: Item_Outlet_Sales, dtype: float64"
      ]
     },
     "execution_count": 37,
     "metadata": {},
     "output_type": "execute_result"
    }
   ],
   "source": [
    "#using groupby to group items by mean outlet sales\n",
    "item_mean = df.groupby('Item_Type')['Item_Outlet_Sales'].mean().round(2)\n",
    "item_mean.head()"
   ]
  },
  {
   "cell_type": "code",
   "execution_count": 42,
   "metadata": {
    "colab": {
     "base_uri": "https://localhost:8080/",
     "height": 398
    },
    "id": "SLvzFEsJ70dn",
    "outputId": "2dfefffa-d31b-4310-898d-78c8e080d878"
   },
   "outputs": [
    {
     "data": {
      "image/png": "[encoded data removed]",
      "text/plain": [
       "<Figure size 640x480 with 1 Axes>"
      ]
     },
     "metadata": {},
     "output_type": "display_data"
    }
   ],
   "source": [
    "#\n",
    "plt.style.use('ggplot')\n",
    "fig, ax = plt.subplots()\n",
    "ax.bar(item_mean.index, item_mean.values)\n",
    "ax.set_title('Average item outlet sales by item type')\n",
    "ax.set_xlabel('Item type')\n",
    "ax.set_ylabel('Average price ($)')\n",
    "plt.xticks(rotation=90)\n",
    "plt.show()"
   ]
  },
  {
   "cell_type": "markdown",
   "metadata": {
    "id": "WSqKMzEKYiyO"
   },
   "source": [
    "The last visual shows the average Item Outlet Sales by Item Type. It seems all the Item Types on average do around the same sales, around 2,000 dollars. Some dip 500 dollars more or 500 dollars less, but there seems to be no significant outliers on average."
   ]
  },
  {
   "cell_type": "markdown",
   "metadata": {
    "id": "hZBxrOy_eJr6"
   },
   "source": [
    "## Linnear Regression Model"
   ]
  },
  {
   "cell_type": "code",
   "execution_count": 37,
   "metadata": {
    "id": "wwbrF1Rih8KD"
   },
   "outputs": [],
   "source": [
    "X = df.drop(columns='Item_Outlet_Sales')\n",
    "y= df['Item_Outlet_Sales']\n",
    "\n",
    "X_train, X_test, y_train, y_test = train_test_split(X, y, random_state=42)"
   ]
  },
  {
   "cell_type": "code",
   "execution_count": 50,
   "metadata": {
    "id": "C1LNuGprjRCe"
   },
   "outputs": [],
   "source": [
    "scaler = StandardScaler()\n",
    "ohe = OneHotEncoder(sparse=False, handle_unknown='ignore')\n",
    "linreg = LinearRegression()\n"
   ]
  },
  {
   "cell_type": "code",
   "execution_count": 47,
   "metadata": {
    "id": "tMk8T5h4j5kZ"
   },
   "outputs": [],
   "source": [
    "cat_selector = make_column_selector(dtype_include='object')\n",
    "num_selector = make_column_selector(dtype_include='number')\n",
    "\n",
    "cat_pipe = (ohe, cat_selector)\n",
    "num_pipe = (scaler, num_selector)"
   ]
  },
  {
   "cell_type": "code",
   "execution_count": 49,
   "metadata": {
    "colab": {
     "base_uri": "https://localhost:8080/",
     "height": 118
    },
    "id": "vljMv61-jpMO",
    "outputId": "06c5017f-25e2-4862-adf8-71341aa22a7a"
   },
   "outputs": [
    {
     "data": {
      "text/html": [
       "<style>#sk-dca3ae03-fa6c-4d9b-9ede-e39ed9aad2fe {color: black;background-color: white;}#sk-dca3ae03-fa6c-4d9b-9ede-e39ed9aad2fe pre{padding: 0;}#sk-dca3ae03-fa6c-4d9b-9ede-e39ed9aad2fe div.sk-toggleable {background-color: white;}#sk-dca3ae03-fa6c-4d9b-9ede-e39ed9aad2fe label.sk-toggleable__label {cursor: pointer;display: block;width: 100%;margin-bottom: 0;padding: 0.3em;box-sizing: border-box;text-align: center;}#sk-dca3ae03-fa6c-4d9b-9ede-e39ed9aad2fe label.sk-toggleable__label-arrow:before {content: \"▸\";float: left;margin-right: 0.25em;color: #696969;}#sk-dca3ae03-fa6c-4d9b-9ede-e39ed9aad2fe label.sk-toggleable__label-arrow:hover:before {color: black;}#sk-dca3ae03-fa6c-4d9b-9ede-e39ed9aad2fe div.sk-estimator:hover label.sk-toggleable__label-arrow:before {color: black;}#sk-dca3ae03-fa6c-4d9b-9ede-e39ed9aad2fe div.sk-toggleable__content {max-height: 0;max-width: 0;overflow: hidden;text-align: left;background-color: #f0f8ff;}#sk-dca3ae03-fa6c-4d9b-9ede-e39ed9aad2fe div.sk-toggleable__content pre {margin: 0.2em;color: black;border-radius: 0.25em;background-color: #f0f8ff;}#sk-dca3ae03-fa6c-4d9b-9ede-e39ed9aad2fe input.sk-toggleable__control:checked~div.sk-toggleable__content {max-height: 200px;max-width: 100%;overflow: auto;}#sk-dca3ae03-fa6c-4d9b-9ede-e39ed9aad2fe input.sk-toggleable__control:checked~label.sk-toggleable__label-arrow:before {content: \"▾\";}#sk-dca3ae03-fa6c-4d9b-9ede-e39ed9aad2fe div.sk-estimator input.sk-toggleable__control:checked~label.sk-toggleable__label {background-color: #d4ebff;}#sk-dca3ae03-fa6c-4d9b-9ede-e39ed9aad2fe div.sk-label input.sk-toggleable__control:checked~label.sk-toggleable__label {background-color: #d4ebff;}#sk-dca3ae03-fa6c-4d9b-9ede-e39ed9aad2fe input.sk-hidden--visually {border: 0;clip: rect(1px 1px 1px 1px);clip: rect(1px, 1px, 1px, 1px);height: 1px;margin: -1px;overflow: hidden;padding: 0;position: absolute;width: 1px;}#sk-dca3ae03-fa6c-4d9b-9ede-e39ed9aad2fe div.sk-estimator {font-family: monospace;background-color: #f0f8ff;border: 1px dotted black;border-radius: 0.25em;box-sizing: border-box;margin-bottom: 0.5em;}#sk-dca3ae03-fa6c-4d9b-9ede-e39ed9aad2fe div.sk-estimator:hover {background-color: #d4ebff;}#sk-dca3ae03-fa6c-4d9b-9ede-e39ed9aad2fe div.sk-parallel-item::after {content: \"\";width: 100%;border-bottom: 1px solid gray;flex-grow: 1;}#sk-dca3ae03-fa6c-4d9b-9ede-e39ed9aad2fe div.sk-label:hover label.sk-toggleable__label {background-color: #d4ebff;}#sk-dca3ae03-fa6c-4d9b-9ede-e39ed9aad2fe div.sk-serial::before {content: \"\";position: absolute;border-left: 1px solid gray;box-sizing: border-box;top: 2em;bottom: 0;left: 50%;}#sk-dca3ae03-fa6c-4d9b-9ede-e39ed9aad2fe div.sk-serial {display: flex;flex-direction: column;align-items: center;background-color: white;padding-right: 0.2em;padding-left: 0.2em;}#sk-dca3ae03-fa6c-4d9b-9ede-e39ed9aad2fe div.sk-item {z-index: 1;}#sk-dca3ae03-fa6c-4d9b-9ede-e39ed9aad2fe div.sk-parallel {display: flex;align-items: stretch;justify-content: center;background-color: white;}#sk-dca3ae03-fa6c-4d9b-9ede-e39ed9aad2fe div.sk-parallel::before {content: \"\";position: absolute;border-left: 1px solid gray;box-sizing: border-box;top: 2em;bottom: 0;left: 50%;}#sk-dca3ae03-fa6c-4d9b-9ede-e39ed9aad2fe div.sk-parallel-item {display: flex;flex-direction: column;position: relative;background-color: white;}#sk-dca3ae03-fa6c-4d9b-9ede-e39ed9aad2fe div.sk-parallel-item:first-child::after {align-self: flex-end;width: 50%;}#sk-dca3ae03-fa6c-4d9b-9ede-e39ed9aad2fe div.sk-parallel-item:last-child::after {align-self: flex-start;width: 50%;}#sk-dca3ae03-fa6c-4d9b-9ede-e39ed9aad2fe div.sk-parallel-item:only-child::after {width: 0;}#sk-dca3ae03-fa6c-4d9b-9ede-e39ed9aad2fe div.sk-dashed-wrapped {border: 1px dashed gray;margin: 0 0.4em 0.5em 0.4em;box-sizing: border-box;padding-bottom: 0.4em;background-color: white;position: relative;}#sk-dca3ae03-fa6c-4d9b-9ede-e39ed9aad2fe div.sk-label label {font-family: monospace;font-weight: bold;background-color: white;display: inline-block;line-height: 1.2em;}#sk-dca3ae03-fa6c-4d9b-9ede-e39ed9aad2fe div.sk-label-container {position: relative;z-index: 2;text-align: center;}#sk-dca3ae03-fa6c-4d9b-9ede-e39ed9aad2fe div.sk-container {/* jupyter's `normalize.less` sets `[hidden] { display: none; }` but bootstrap.min.css set `[hidden] { display: none !important; }` so we also need the `!important` here to be able to override the default hidden behavior on the sphinx rendered scikit-learn.org. See: https://github.com/scikit-learn/scikit-learn/issues/21755 */display: inline-block !important;position: relative;}#sk-dca3ae03-fa6c-4d9b-9ede-e39ed9aad2fe div.sk-text-repr-fallback {display: none;}</style><div id=\"sk-dca3ae03-fa6c-4d9b-9ede-e39ed9aad2fe\" class=\"sk-top-container\"><div class=\"sk-text-repr-fallback\"><pre>ColumnTransformer(transformers=[(&#x27;onehotencoder&#x27;,\n",
       "                                 OneHotEncoder(handle_unknown=&#x27;ignore&#x27;,\n",
       "                                               sparse=False),\n",
       "                                 &lt;sklearn.compose._column_transformer.make_column_selector object at 0x7f69043a0890&gt;),\n",
       "                                (&#x27;standardscaler&#x27;, StandardScaler(),\n",
       "                                 &lt;sklearn.compose._column_transformer.make_column_selector object at 0x7f69043a0150&gt;)])</pre><b>Please rerun this cell to show the HTML repr or trust the notebook.</b></div><div class=\"sk-container\" hidden><div class=\"sk-item sk-dashed-wrapped\"><div class=\"sk-label-container\"><div class=\"sk-label sk-toggleable\"><input class=\"sk-toggleable__control sk-hidden--visually\" id=\"e00896f5-589d-4e0c-b286-015205b1fcec\" type=\"checkbox\" ><label for=\"e00896f5-589d-4e0c-b286-015205b1fcec\" class=\"sk-toggleable__label sk-toggleable__label-arrow\">ColumnTransformer</label><div class=\"sk-toggleable__content\"><pre>ColumnTransformer(transformers=[(&#x27;onehotencoder&#x27;,\n",
       "                                 OneHotEncoder(handle_unknown=&#x27;ignore&#x27;,\n",
       "                                               sparse=False),\n",
       "                                 &lt;sklearn.compose._column_transformer.make_column_selector object at 0x7f69043a0890&gt;),\n",
       "                                (&#x27;standardscaler&#x27;, StandardScaler(),\n",
       "                                 &lt;sklearn.compose._column_transformer.make_column_selector object at 0x7f69043a0150&gt;)])</pre></div></div></div><div class=\"sk-parallel\"><div class=\"sk-parallel-item\"><div class=\"sk-item\"><div class=\"sk-label-container\"><div class=\"sk-label sk-toggleable\"><input class=\"sk-toggleable__control sk-hidden--visually\" id=\"ed2efbea-4144-458c-8916-98b85d0609d2\" type=\"checkbox\" ><label for=\"ed2efbea-4144-458c-8916-98b85d0609d2\" class=\"sk-toggleable__label sk-toggleable__label-arrow\">onehotencoder</label><div class=\"sk-toggleable__content\"><pre>&lt;sklearn.compose._column_transformer.make_column_selector object at 0x7f69043a0890&gt;</pre></div></div></div><div class=\"sk-serial\"><div class=\"sk-item\"><div class=\"sk-estimator sk-toggleable\"><input class=\"sk-toggleable__control sk-hidden--visually\" id=\"9bb8bde1-0943-4a02-85f2-cb63a5634190\" type=\"checkbox\" ><label for=\"9bb8bde1-0943-4a02-85f2-cb63a5634190\" class=\"sk-toggleable__label sk-toggleable__label-arrow\">OneHotEncoder</label><div class=\"sk-toggleable__content\"><pre>OneHotEncoder(handle_unknown=&#x27;ignore&#x27;, sparse=False)</pre></div></div></div></div></div></div><div class=\"sk-parallel-item\"><div class=\"sk-item\"><div class=\"sk-label-container\"><div class=\"sk-label sk-toggleable\"><input class=\"sk-toggleable__control sk-hidden--visually\" id=\"ca1b67ae-c3de-4301-b42c-1ccc123c8d8c\" type=\"checkbox\" ><label for=\"ca1b67ae-c3de-4301-b42c-1ccc123c8d8c\" class=\"sk-toggleable__label sk-toggleable__label-arrow\">standardscaler</label><div class=\"sk-toggleable__content\"><pre>&lt;sklearn.compose._column_transformer.make_column_selector object at 0x7f69043a0150&gt;</pre></div></div></div><div class=\"sk-serial\"><div class=\"sk-item\"><div class=\"sk-estimator sk-toggleable\"><input class=\"sk-toggleable__control sk-hidden--visually\" id=\"0af40fe6-a097-432d-b521-830f106b9308\" type=\"checkbox\" ><label for=\"0af40fe6-a097-432d-b521-830f106b9308\" class=\"sk-toggleable__label sk-toggleable__label-arrow\">StandardScaler</label><div class=\"sk-toggleable__content\"><pre>StandardScaler()</pre></div></div></div></div></div></div></div></div></div></div>"
      ],
      "text/plain": [
       "ColumnTransformer(transformers=[('onehotencoder',\n",
       "                                 OneHotEncoder(handle_unknown='ignore',\n",
       "                                               sparse=False),\n",
       "                                 <sklearn.compose._column_transformer.make_column_selector object at 0x7f69043a0890>),\n",
       "                                ('standardscaler', StandardScaler(),\n",
       "                                 <sklearn.compose._column_transformer.make_column_selector object at 0x7f69043a0150>)])"
      ]
     },
     "execution_count": 49,
     "metadata": {},
     "output_type": "execute_result"
    }
   ],
   "source": [
    "preprocessor = make_column_transformer(cat_pipe, num_pipe, remainder='drop')\n",
    "preprocessor"
   ]
  },
  {
   "cell_type": "code",
   "execution_count": 52,
   "metadata": {
    "colab": {
     "base_uri": "https://localhost:8080/",
     "height": 192
    },
    "id": "zjdffUfHmM-s",
    "outputId": "02af1299-b879-4e29-d994-98852d0899fd"
   },
   "outputs": [
    {
     "data": {
      "text/html": [
       "<style>#sk-92d05cdb-c912-4dc2-aad4-93dd7e57e34b {color: black;background-color: white;}#sk-92d05cdb-c912-4dc2-aad4-93dd7e57e34b pre{padding: 0;}#sk-92d05cdb-c912-4dc2-aad4-93dd7e57e34b div.sk-toggleable {background-color: white;}#sk-92d05cdb-c912-4dc2-aad4-93dd7e57e34b label.sk-toggleable__label {cursor: pointer;display: block;width: 100%;margin-bottom: 0;padding: 0.3em;box-sizing: border-box;text-align: center;}#sk-92d05cdb-c912-4dc2-aad4-93dd7e57e34b label.sk-toggleable__label-arrow:before {content: \"▸\";float: left;margin-right: 0.25em;color: #696969;}#sk-92d05cdb-c912-4dc2-aad4-93dd7e57e34b label.sk-toggleable__label-arrow:hover:before {color: black;}#sk-92d05cdb-c912-4dc2-aad4-93dd7e57e34b div.sk-estimator:hover label.sk-toggleable__label-arrow:before {color: black;}#sk-92d05cdb-c912-4dc2-aad4-93dd7e57e34b div.sk-toggleable__content {max-height: 0;max-width: 0;overflow: hidden;text-align: left;background-color: #f0f8ff;}#sk-92d05cdb-c912-4dc2-aad4-93dd7e57e34b div.sk-toggleable__content pre {margin: 0.2em;color: black;border-radius: 0.25em;background-color: #f0f8ff;}#sk-92d05cdb-c912-4dc2-aad4-93dd7e57e34b input.sk-toggleable__control:checked~div.sk-toggleable__content {max-height: 200px;max-width: 100%;overflow: auto;}#sk-92d05cdb-c912-4dc2-aad4-93dd7e57e34b input.sk-toggleable__control:checked~label.sk-toggleable__label-arrow:before {content: \"▾\";}#sk-92d05cdb-c912-4dc2-aad4-93dd7e57e34b div.sk-estimator input.sk-toggleable__control:checked~label.sk-toggleable__label {background-color: #d4ebff;}#sk-92d05cdb-c912-4dc2-aad4-93dd7e57e34b div.sk-label input.sk-toggleable__control:checked~label.sk-toggleable__label {background-color: #d4ebff;}#sk-92d05cdb-c912-4dc2-aad4-93dd7e57e34b input.sk-hidden--visually {border: 0;clip: rect(1px 1px 1px 1px);clip: rect(1px, 1px, 1px, 1px);height: 1px;margin: -1px;overflow: hidden;padding: 0;position: absolute;width: 1px;}#sk-92d05cdb-c912-4dc2-aad4-93dd7e57e34b div.sk-estimator {font-family: monospace;background-color: #f0f8ff;border: 1px dotted black;border-radius: 0.25em;box-sizing: border-box;margin-bottom: 0.5em;}#sk-92d05cdb-c912-4dc2-aad4-93dd7e57e34b div.sk-estimator:hover {background-color: #d4ebff;}#sk-92d05cdb-c912-4dc2-aad4-93dd7e57e34b div.sk-parallel-item::after {content: \"\";width: 100%;border-bottom: 1px solid gray;flex-grow: 1;}#sk-92d05cdb-c912-4dc2-aad4-93dd7e57e34b div.sk-label:hover label.sk-toggleable__label {background-color: #d4ebff;}#sk-92d05cdb-c912-4dc2-aad4-93dd7e57e34b div.sk-serial::before {content: \"\";position: absolute;border-left: 1px solid gray;box-sizing: border-box;top: 2em;bottom: 0;left: 50%;}#sk-92d05cdb-c912-4dc2-aad4-93dd7e57e34b div.sk-serial {display: flex;flex-direction: column;align-items: center;background-color: white;padding-right: 0.2em;padding-left: 0.2em;}#sk-92d05cdb-c912-4dc2-aad4-93dd7e57e34b div.sk-item {z-index: 1;}#sk-92d05cdb-c912-4dc2-aad4-93dd7e57e34b div.sk-parallel {display: flex;align-items: stretch;justify-content: center;background-color: white;}#sk-92d05cdb-c912-4dc2-aad4-93dd7e57e34b div.sk-parallel::before {content: \"\";position: absolute;border-left: 1px solid gray;box-sizing: border-box;top: 2em;bottom: 0;left: 50%;}#sk-92d05cdb-c912-4dc2-aad4-93dd7e57e34b div.sk-parallel-item {display: flex;flex-direction: column;position: relative;background-color: white;}#sk-92d05cdb-c912-4dc2-aad4-93dd7e57e34b div.sk-parallel-item:first-child::after {align-self: flex-end;width: 50%;}#sk-92d05cdb-c912-4dc2-aad4-93dd7e57e34b div.sk-parallel-item:last-child::after {align-self: flex-start;width: 50%;}#sk-92d05cdb-c912-4dc2-aad4-93dd7e57e34b div.sk-parallel-item:only-child::after {width: 0;}#sk-92d05cdb-c912-4dc2-aad4-93dd7e57e34b div.sk-dashed-wrapped {border: 1px dashed gray;margin: 0 0.4em 0.5em 0.4em;box-sizing: border-box;padding-bottom: 0.4em;background-color: white;position: relative;}#sk-92d05cdb-c912-4dc2-aad4-93dd7e57e34b div.sk-label label {font-family: monospace;font-weight: bold;background-color: white;display: inline-block;line-height: 1.2em;}#sk-92d05cdb-c912-4dc2-aad4-93dd7e57e34b div.sk-label-container {position: relative;z-index: 2;text-align: center;}#sk-92d05cdb-c912-4dc2-aad4-93dd7e57e34b div.sk-container {/* jupyter's `normalize.less` sets `[hidden] { display: none; }` but bootstrap.min.css set `[hidden] { display: none !important; }` so we also need the `!important` here to be able to override the default hidden behavior on the sphinx rendered scikit-learn.org. See: https://github.com/scikit-learn/scikit-learn/issues/21755 */display: inline-block !important;position: relative;}#sk-92d05cdb-c912-4dc2-aad4-93dd7e57e34b div.sk-text-repr-fallback {display: none;}</style><div id=\"sk-92d05cdb-c912-4dc2-aad4-93dd7e57e34b\" class=\"sk-top-container\"><div class=\"sk-text-repr-fallback\"><pre>Pipeline(steps=[(&#x27;columntransformer&#x27;,\n",
       "                 ColumnTransformer(transformers=[(&#x27;onehotencoder&#x27;,\n",
       "                                                  OneHotEncoder(handle_unknown=&#x27;ignore&#x27;,\n",
       "                                                                sparse=False),\n",
       "                                                  &lt;sklearn.compose._column_transformer.make_column_selector object at 0x7f69043a0890&gt;),\n",
       "                                                 (&#x27;standardscaler&#x27;,\n",
       "                                                  StandardScaler(),\n",
       "                                                  &lt;sklearn.compose._column_transformer.make_column_selector object at 0x7f69043a0150&gt;)])),\n",
       "                (&#x27;linearregression&#x27;, LinearRegression())])</pre><b>Please rerun this cell to show the HTML repr or trust the notebook.</b></div><div class=\"sk-container\" hidden><div class=\"sk-item sk-dashed-wrapped\"><div class=\"sk-label-container\"><div class=\"sk-label sk-toggleable\"><input class=\"sk-toggleable__control sk-hidden--visually\" id=\"7d29a1be-1edf-4d14-8b19-a2d26b731a2b\" type=\"checkbox\" ><label for=\"7d29a1be-1edf-4d14-8b19-a2d26b731a2b\" class=\"sk-toggleable__label sk-toggleable__label-arrow\">Pipeline</label><div class=\"sk-toggleable__content\"><pre>Pipeline(steps=[(&#x27;columntransformer&#x27;,\n",
       "                 ColumnTransformer(transformers=[(&#x27;onehotencoder&#x27;,\n",
       "                                                  OneHotEncoder(handle_unknown=&#x27;ignore&#x27;,\n",
       "                                                                sparse=False),\n",
       "                                                  &lt;sklearn.compose._column_transformer.make_column_selector object at 0x7f69043a0890&gt;),\n",
       "                                                 (&#x27;standardscaler&#x27;,\n",
       "                                                  StandardScaler(),\n",
       "                                                  &lt;sklearn.compose._column_transformer.make_column_selector object at 0x7f69043a0150&gt;)])),\n",
       "                (&#x27;linearregression&#x27;, LinearRegression())])</pre></div></div></div><div class=\"sk-serial\"><div class=\"sk-item sk-dashed-wrapped\"><div class=\"sk-label-container\"><div class=\"sk-label sk-toggleable\"><input class=\"sk-toggleable__control sk-hidden--visually\" id=\"25aedb06-2d78-4d83-b246-52b843ac7702\" type=\"checkbox\" ><label for=\"25aedb06-2d78-4d83-b246-52b843ac7702\" class=\"sk-toggleable__label sk-toggleable__label-arrow\">columntransformer: ColumnTransformer</label><div class=\"sk-toggleable__content\"><pre>ColumnTransformer(transformers=[(&#x27;onehotencoder&#x27;,\n",
       "                                 OneHotEncoder(handle_unknown=&#x27;ignore&#x27;,\n",
       "                                               sparse=False),\n",
       "                                 &lt;sklearn.compose._column_transformer.make_column_selector object at 0x7f69043a0890&gt;),\n",
       "                                (&#x27;standardscaler&#x27;, StandardScaler(),\n",
       "                                 &lt;sklearn.compose._column_transformer.make_column_selector object at 0x7f69043a0150&gt;)])</pre></div></div></div><div class=\"sk-parallel\"><div class=\"sk-parallel-item\"><div class=\"sk-item\"><div class=\"sk-label-container\"><div class=\"sk-label sk-toggleable\"><input class=\"sk-toggleable__control sk-hidden--visually\" id=\"9404a5b7-961f-4e6d-bb54-d15d8cdb4213\" type=\"checkbox\" ><label for=\"9404a5b7-961f-4e6d-bb54-d15d8cdb4213\" class=\"sk-toggleable__label sk-toggleable__label-arrow\">onehotencoder</label><div class=\"sk-toggleable__content\"><pre>&lt;sklearn.compose._column_transformer.make_column_selector object at 0x7f69043a0890&gt;</pre></div></div></div><div class=\"sk-serial\"><div class=\"sk-item\"><div class=\"sk-estimator sk-toggleable\"><input class=\"sk-toggleable__control sk-hidden--visually\" id=\"9f78fd4e-79e0-495f-bd55-036190af8a39\" type=\"checkbox\" ><label for=\"9f78fd4e-79e0-495f-bd55-036190af8a39\" class=\"sk-toggleable__label sk-toggleable__label-arrow\">OneHotEncoder</label><div class=\"sk-toggleable__content\"><pre>OneHotEncoder(handle_unknown=&#x27;ignore&#x27;, sparse=False)</pre></div></div></div></div></div></div><div class=\"sk-parallel-item\"><div class=\"sk-item\"><div class=\"sk-label-container\"><div class=\"sk-label sk-toggleable\"><input class=\"sk-toggleable__control sk-hidden--visually\" id=\"1151ddf8-564d-4c7f-b2c0-6fc523540c6d\" type=\"checkbox\" ><label for=\"1151ddf8-564d-4c7f-b2c0-6fc523540c6d\" class=\"sk-toggleable__label sk-toggleable__label-arrow\">standardscaler</label><div class=\"sk-toggleable__content\"><pre>&lt;sklearn.compose._column_transformer.make_column_selector object at 0x7f69043a0150&gt;</pre></div></div></div><div class=\"sk-serial\"><div class=\"sk-item\"><div class=\"sk-estimator sk-toggleable\"><input class=\"sk-toggleable__control sk-hidden--visually\" id=\"cd2789a5-b713-4112-b996-618abf670d63\" type=\"checkbox\" ><label for=\"cd2789a5-b713-4112-b996-618abf670d63\" class=\"sk-toggleable__label sk-toggleable__label-arrow\">StandardScaler</label><div class=\"sk-toggleable__content\"><pre>StandardScaler()</pre></div></div></div></div></div></div></div></div><div class=\"sk-item\"><div class=\"sk-estimator sk-toggleable\"><input class=\"sk-toggleable__control sk-hidden--visually\" id=\"3839eb63-2319-4093-9210-7fd179b1273e\" type=\"checkbox\" ><label for=\"3839eb63-2319-4093-9210-7fd179b1273e\" class=\"sk-toggleable__label sk-toggleable__label-arrow\">LinearRegression</label><div class=\"sk-toggleable__content\"><pre>LinearRegression()</pre></div></div></div></div></div></div></div>"
      ],
      "text/plain": [
       "Pipeline(steps=[('columntransformer',\n",
       "                 ColumnTransformer(transformers=[('onehotencoder',\n",
       "                                                  OneHotEncoder(handle_unknown='ignore',\n",
       "                                                                sparse=False),\n",
       "                                                  <sklearn.compose._column_transformer.make_column_selector object at 0x7f69043a0890>),\n",
       "                                                 ('standardscaler',\n",
       "                                                  StandardScaler(),\n",
       "                                                  <sklearn.compose._column_transformer.make_column_selector object at 0x7f69043a0150>)])),\n",
       "                ('linearregression', LinearRegression())])"
      ]
     },
     "execution_count": 52,
     "metadata": {},
     "output_type": "execute_result"
    }
   ],
   "source": [
    "linreg_pipe = make_pipeline(preprocessor, linreg)\n",
    "linreg_pipe.fit(X_train, y_train)"
   ]
  },
  {
   "cell_type": "code",
   "execution_count": 54,
   "metadata": {
    "id": "BefSCn0Rncqw"
   },
   "outputs": [],
   "source": [
    "train_predict = linreg_pipe.predict(X_train)\n",
    "test_predict = linreg_pipe.predict(X_test)"
   ]
  },
  {
   "cell_type": "code",
   "execution_count": 57,
   "metadata": {
    "colab": {
     "base_uri": "https://localhost:8080/"
    },
    "id": "cKPXiWJdoKcf",
    "outputId": "2e9c0a5e-f2b0-462e-9104-916c2c9a72fc"
   },
   "outputs": [
    {
     "name": "stdout",
     "output_type": "stream",
     "text": [
      "Train R2: 0.67\n",
      "Test R2: -2.451381375368395e+17\n"
     ]
    }
   ],
   "source": [
    "train_r2 = r2_score(y_train, train_predict)\n",
    "test_r2 = r2_score(y_test, test_predict)\n",
    "\n",
    "print(f'Train R2: {round(train_r2,2)}')\n",
    "print(f'Test R2: {round(test_r2,2)}')"
   ]
  },
  {
   "cell_type": "code",
   "execution_count": 62,
   "metadata": {
    "colab": {
     "base_uri": "https://localhost:8080/"
    },
    "id": "NwUyhNfKpSbC",
    "outputId": "95e9684e-8fd7-4732-86aa-4d9f1b23aef0"
   },
   "outputs": [
    {
     "name": "stdout",
     "output_type": "stream",
     "text": [
      "Train RMSE: 987.03\n",
      "Test RMSE: 822393186887.73\n"
     ]
    }
   ],
   "source": [
    "train_mse = mean_squared_error(y_train, train_predict)\n",
    "test_mse = mean_squared_error(y_test, test_predict)\n",
    "\n",
    "train_rmse = np.sqrt(train_mse)\n",
    "test_rmse = np.sqrt(test_mse)\n",
    "\n",
    "print(f'Train RMSE: {round(train_rmse,2)}')\n",
    "print(f'Test RMSE: {round(test_rmse,2)}')\n"
   ]
  },
  {
   "cell_type": "markdown",
   "metadata": {
    "id": "8TRvchGLrWJO"
   },
   "source": [
    "## Bagged Tree"
   ]
  },
  {
   "cell_type": "code",
   "execution_count": 70,
   "metadata": {
    "colab": {
     "base_uri": "https://localhost:8080/",
     "height": 192
    },
    "id": "2D0Olfg1ra5M",
    "outputId": "3257c59a-7b8c-415e-9718-ffa0416d3f61"
   },
   "outputs": [
    {
     "data": {
      "text/html": [
       "<style>#sk-869d0a71-e3c9-4a3c-80c7-dede1698a7cc {color: black;background-color: white;}#sk-869d0a71-e3c9-4a3c-80c7-dede1698a7cc pre{padding: 0;}#sk-869d0a71-e3c9-4a3c-80c7-dede1698a7cc div.sk-toggleable {background-color: white;}#sk-869d0a71-e3c9-4a3c-80c7-dede1698a7cc label.sk-toggleable__label {cursor: pointer;display: block;width: 100%;margin-bottom: 0;padding: 0.3em;box-sizing: border-box;text-align: center;}#sk-869d0a71-e3c9-4a3c-80c7-dede1698a7cc label.sk-toggleable__label-arrow:before {content: \"▸\";float: left;margin-right: 0.25em;color: #696969;}#sk-869d0a71-e3c9-4a3c-80c7-dede1698a7cc label.sk-toggleable__label-arrow:hover:before {color: black;}#sk-869d0a71-e3c9-4a3c-80c7-dede1698a7cc div.sk-estimator:hover label.sk-toggleable__label-arrow:before {color: black;}#sk-869d0a71-e3c9-4a3c-80c7-dede1698a7cc div.sk-toggleable__content {max-height: 0;max-width: 0;overflow: hidden;text-align: left;background-color: #f0f8ff;}#sk-869d0a71-e3c9-4a3c-80c7-dede1698a7cc div.sk-toggleable__content pre {margin: 0.2em;color: black;border-radius: 0.25em;background-color: #f0f8ff;}#sk-869d0a71-e3c9-4a3c-80c7-dede1698a7cc input.sk-toggleable__control:checked~div.sk-toggleable__content {max-height: 200px;max-width: 100%;overflow: auto;}#sk-869d0a71-e3c9-4a3c-80c7-dede1698a7cc input.sk-toggleable__control:checked~label.sk-toggleable__label-arrow:before {content: \"▾\";}#sk-869d0a71-e3c9-4a3c-80c7-dede1698a7cc div.sk-estimator input.sk-toggleable__control:checked~label.sk-toggleable__label {background-color: #d4ebff;}#sk-869d0a71-e3c9-4a3c-80c7-dede1698a7cc div.sk-label input.sk-toggleable__control:checked~label.sk-toggleable__label {background-color: #d4ebff;}#sk-869d0a71-e3c9-4a3c-80c7-dede1698a7cc input.sk-hidden--visually {border: 0;clip: rect(1px 1px 1px 1px);clip: rect(1px, 1px, 1px, 1px);height: 1px;margin: -1px;overflow: hidden;padding: 0;position: absolute;width: 1px;}#sk-869d0a71-e3c9-4a3c-80c7-dede1698a7cc div.sk-estimator {font-family: monospace;background-color: #f0f8ff;border: 1px dotted black;border-radius: 0.25em;box-sizing: border-box;margin-bottom: 0.5em;}#sk-869d0a71-e3c9-4a3c-80c7-dede1698a7cc div.sk-estimator:hover {background-color: #d4ebff;}#sk-869d0a71-e3c9-4a3c-80c7-dede1698a7cc div.sk-parallel-item::after {content: \"\";width: 100%;border-bottom: 1px solid gray;flex-grow: 1;}#sk-869d0a71-e3c9-4a3c-80c7-dede1698a7cc div.sk-label:hover label.sk-toggleable__label {background-color: #d4ebff;}#sk-869d0a71-e3c9-4a3c-80c7-dede1698a7cc div.sk-serial::before {content: \"\";position: absolute;border-left: 1px solid gray;box-sizing: border-box;top: 2em;bottom: 0;left: 50%;}#sk-869d0a71-e3c9-4a3c-80c7-dede1698a7cc div.sk-serial {display: flex;flex-direction: column;align-items: center;background-color: white;padding-right: 0.2em;padding-left: 0.2em;}#sk-869d0a71-e3c9-4a3c-80c7-dede1698a7cc div.sk-item {z-index: 1;}#sk-869d0a71-e3c9-4a3c-80c7-dede1698a7cc div.sk-parallel {display: flex;align-items: stretch;justify-content: center;background-color: white;}#sk-869d0a71-e3c9-4a3c-80c7-dede1698a7cc div.sk-parallel::before {content: \"\";position: absolute;border-left: 1px solid gray;box-sizing: border-box;top: 2em;bottom: 0;left: 50%;}#sk-869d0a71-e3c9-4a3c-80c7-dede1698a7cc div.sk-parallel-item {display: flex;flex-direction: column;position: relative;background-color: white;}#sk-869d0a71-e3c9-4a3c-80c7-dede1698a7cc div.sk-parallel-item:first-child::after {align-self: flex-end;width: 50%;}#sk-869d0a71-e3c9-4a3c-80c7-dede1698a7cc div.sk-parallel-item:last-child::after {align-self: flex-start;width: 50%;}#sk-869d0a71-e3c9-4a3c-80c7-dede1698a7cc div.sk-parallel-item:only-child::after {width: 0;}#sk-869d0a71-e3c9-4a3c-80c7-dede1698a7cc div.sk-dashed-wrapped {border: 1px dashed gray;margin: 0 0.4em 0.5em 0.4em;box-sizing: border-box;padding-bottom: 0.4em;background-color: white;position: relative;}#sk-869d0a71-e3c9-4a3c-80c7-dede1698a7cc div.sk-label label {font-family: monospace;font-weight: bold;background-color: white;display: inline-block;line-height: 1.2em;}#sk-869d0a71-e3c9-4a3c-80c7-dede1698a7cc div.sk-label-container {position: relative;z-index: 2;text-align: center;}#sk-869d0a71-e3c9-4a3c-80c7-dede1698a7cc div.sk-container {/* jupyter's `normalize.less` sets `[hidden] { display: none; }` but bootstrap.min.css set `[hidden] { display: none !important; }` so we also need the `!important` here to be able to override the default hidden behavior on the sphinx rendered scikit-learn.org. See: https://github.com/scikit-learn/scikit-learn/issues/21755 */display: inline-block !important;position: relative;}#sk-869d0a71-e3c9-4a3c-80c7-dede1698a7cc div.sk-text-repr-fallback {display: none;}</style><div id=\"sk-869d0a71-e3c9-4a3c-80c7-dede1698a7cc\" class=\"sk-top-container\"><div class=\"sk-text-repr-fallback\"><pre>Pipeline(steps=[(&#x27;columntransformer&#x27;,\n",
       "                 ColumnTransformer(transformers=[(&#x27;onehotencoder&#x27;,\n",
       "                                                  OneHotEncoder(handle_unknown=&#x27;ignore&#x27;,\n",
       "                                                                sparse=False),\n",
       "                                                  &lt;sklearn.compose._column_transformer.make_column_selector object at 0x7f69043a0890&gt;),\n",
       "                                                 (&#x27;standardscaler&#x27;,\n",
       "                                                  StandardScaler(),\n",
       "                                                  &lt;sklearn.compose._column_transformer.make_column_selector object at 0x7f69043a0150&gt;)])),\n",
       "                (&#x27;baggingregressor&#x27;, BaggingRegressor(random_state=42))])</pre><b>Please rerun this cell to show the HTML repr or trust the notebook.</b></div><div class=\"sk-container\" hidden><div class=\"sk-item sk-dashed-wrapped\"><div class=\"sk-label-container\"><div class=\"sk-label sk-toggleable\"><input class=\"sk-toggleable__control sk-hidden--visually\" id=\"24797aa8-4fe5-4ff6-921d-0b042d41f216\" type=\"checkbox\" ><label for=\"24797aa8-4fe5-4ff6-921d-0b042d41f216\" class=\"sk-toggleable__label sk-toggleable__label-arrow\">Pipeline</label><div class=\"sk-toggleable__content\"><pre>Pipeline(steps=[(&#x27;columntransformer&#x27;,\n",
       "                 ColumnTransformer(transformers=[(&#x27;onehotencoder&#x27;,\n",
       "                                                  OneHotEncoder(handle_unknown=&#x27;ignore&#x27;,\n",
       "                                                                sparse=False),\n",
       "                                                  &lt;sklearn.compose._column_transformer.make_column_selector object at 0x7f69043a0890&gt;),\n",
       "                                                 (&#x27;standardscaler&#x27;,\n",
       "                                                  StandardScaler(),\n",
       "                                                  &lt;sklearn.compose._column_transformer.make_column_selector object at 0x7f69043a0150&gt;)])),\n",
       "                (&#x27;baggingregressor&#x27;, BaggingRegressor(random_state=42))])</pre></div></div></div><div class=\"sk-serial\"><div class=\"sk-item sk-dashed-wrapped\"><div class=\"sk-label-container\"><div class=\"sk-label sk-toggleable\"><input class=\"sk-toggleable__control sk-hidden--visually\" id=\"184d22aa-93c7-4b8d-b93d-c6a123c8fcfc\" type=\"checkbox\" ><label for=\"184d22aa-93c7-4b8d-b93d-c6a123c8fcfc\" class=\"sk-toggleable__label sk-toggleable__label-arrow\">columntransformer: ColumnTransformer</label><div class=\"sk-toggleable__content\"><pre>ColumnTransformer(transformers=[(&#x27;onehotencoder&#x27;,\n",
       "                                 OneHotEncoder(handle_unknown=&#x27;ignore&#x27;,\n",
       "                                               sparse=False),\n",
       "                                 &lt;sklearn.compose._column_transformer.make_column_selector object at 0x7f69043a0890&gt;),\n",
       "                                (&#x27;standardscaler&#x27;, StandardScaler(),\n",
       "                                 &lt;sklearn.compose._column_transformer.make_column_selector object at 0x7f69043a0150&gt;)])</pre></div></div></div><div class=\"sk-parallel\"><div class=\"sk-parallel-item\"><div class=\"sk-item\"><div class=\"sk-label-container\"><div class=\"sk-label sk-toggleable\"><input class=\"sk-toggleable__control sk-hidden--visually\" id=\"9cb877ba-b8e9-4e20-8844-4842dfe0e7eb\" type=\"checkbox\" ><label for=\"9cb877ba-b8e9-4e20-8844-4842dfe0e7eb\" class=\"sk-toggleable__label sk-toggleable__label-arrow\">onehotencoder</label><div class=\"sk-toggleable__content\"><pre>&lt;sklearn.compose._column_transformer.make_column_selector object at 0x7f69043a0890&gt;</pre></div></div></div><div class=\"sk-serial\"><div class=\"sk-item\"><div class=\"sk-estimator sk-toggleable\"><input class=\"sk-toggleable__control sk-hidden--visually\" id=\"b6b5c9f7-8aee-4924-9a80-a763b2e85876\" type=\"checkbox\" ><label for=\"b6b5c9f7-8aee-4924-9a80-a763b2e85876\" class=\"sk-toggleable__label sk-toggleable__label-arrow\">OneHotEncoder</label><div class=\"sk-toggleable__content\"><pre>OneHotEncoder(handle_unknown=&#x27;ignore&#x27;, sparse=False)</pre></div></div></div></div></div></div><div class=\"sk-parallel-item\"><div class=\"sk-item\"><div class=\"sk-label-container\"><div class=\"sk-label sk-toggleable\"><input class=\"sk-toggleable__control sk-hidden--visually\" id=\"355ee1bf-dca5-4196-985e-b23fdce78adc\" type=\"checkbox\" ><label for=\"355ee1bf-dca5-4196-985e-b23fdce78adc\" class=\"sk-toggleable__label sk-toggleable__label-arrow\">standardscaler</label><div class=\"sk-toggleable__content\"><pre>&lt;sklearn.compose._column_transformer.make_column_selector object at 0x7f69043a0150&gt;</pre></div></div></div><div class=\"sk-serial\"><div class=\"sk-item\"><div class=\"sk-estimator sk-toggleable\"><input class=\"sk-toggleable__control sk-hidden--visually\" id=\"6ac0ce1c-270a-49e6-b122-219ac91bc3b8\" type=\"checkbox\" ><label for=\"6ac0ce1c-270a-49e6-b122-219ac91bc3b8\" class=\"sk-toggleable__label sk-toggleable__label-arrow\">StandardScaler</label><div class=\"sk-toggleable__content\"><pre>StandardScaler()</pre></div></div></div></div></div></div></div></div><div class=\"sk-item\"><div class=\"sk-estimator sk-toggleable\"><input class=\"sk-toggleable__control sk-hidden--visually\" id=\"47122ef1-dc24-4471-80e4-3b50e3c25059\" type=\"checkbox\" ><label for=\"47122ef1-dc24-4471-80e4-3b50e3c25059\" class=\"sk-toggleable__label sk-toggleable__label-arrow\">BaggingRegressor</label><div class=\"sk-toggleable__content\"><pre>BaggingRegressor(random_state=42)</pre></div></div></div></div></div></div></div>"
      ],
      "text/plain": [
       "Pipeline(steps=[('columntransformer',\n",
       "                 ColumnTransformer(transformers=[('onehotencoder',\n",
       "                                                  OneHotEncoder(handle_unknown='ignore',\n",
       "                                                                sparse=False),\n",
       "                                                  <sklearn.compose._column_transformer.make_column_selector object at 0x7f69043a0890>),\n",
       "                                                 ('standardscaler',\n",
       "                                                  StandardScaler(),\n",
       "                                                  <sklearn.compose._column_transformer.make_column_selector object at 0x7f69043a0150>)])),\n",
       "                ('baggingregressor', BaggingRegressor(random_state=42))])"
      ]
     },
     "execution_count": 70,
     "metadata": {},
     "output_type": "execute_result"
    }
   ],
   "source": [
    "bagreg = BaggingRegressor(random_state=42)\n",
    "\n",
    "bagreg_pipe = make_pipeline(preprocessor, bagreg)\n",
    "\n",
    "bagreg_pipe.fit(X_train, y_train)"
   ]
  },
  {
   "cell_type": "code",
   "execution_count": 71,
   "metadata": {
    "id": "3YNuCU_DtPSX"
   },
   "outputs": [],
   "source": [
    "train_pred =  bagreg_pipe.predict(X_train)\n",
    "test_pred = bagreg_pipe.predict(X_test)"
   ]
  },
  {
   "cell_type": "code",
   "execution_count": 77,
   "metadata": {
    "colab": {
     "base_uri": "https://localhost:8080/"
    },
    "id": "k5fhoMAztjX9",
    "outputId": "eecd589c-15a2-42ba-ddd5-0d1dcb53df3c"
   },
   "outputs": [
    {
     "name": "stdout",
     "output_type": "stream",
     "text": [
      "Train R2: 0.92\n",
      "Test R2: 0.51\n"
     ]
    }
   ],
   "source": [
    "br2_train = bagreg_pipe.score(X_train, y_train)\n",
    "br2_test = bagreg_pipe.score(X_test, y_test)\n",
    "\n",
    "print(f'Train R2: {round(br2_train,2)}')\n",
    "print(f'Test R2: {round(br2_test,2)}')"
   ]
  },
  {
   "cell_type": "code",
   "execution_count": 78,
   "metadata": {
    "colab": {
     "base_uri": "https://localhost:8080/"
    },
    "id": "HQ5oDXuIutuv",
    "outputId": "47a0bd2b-d28a-4d72-9ae8-be74d23fbebd"
   },
   "outputs": [
    {
     "name": "stdout",
     "output_type": "stream",
     "text": [
      "Train RMSE: 987.03\n",
      "Test RMSE: 822393186887.73\n"
     ]
    }
   ],
   "source": [
    "train_mse = mean_squared_error(y_train, train_predict)\n",
    "test_mse = mean_squared_error(y_test, test_predict)\n",
    "\n",
    "train_rmse = np.sqrt(train_mse)\n",
    "test_rmse = np.sqrt(test_mse)\n",
    "\n",
    "print(f'Train RMSE: {round(train_rmse,2)}')\n",
    "print(f'Test RMSE: {round(test_rmse,2)}')\n"
   ]
  },
  {
   "cell_type": "markdown",
   "metadata": {
    "id": "gYqvxAw2u6lM"
   },
   "source": [
    "I would definitely advise the Bagged Tree model over the Linear Regression model due to the best R2 and RMSE score, however, my reccomendation would be to come up with some more model ideas to see if there is a better option"
   ]
  }
 ],
 "metadata": {
  "colab": {
   "authorship_tag": "ABX9TyMf1V8oyIqCcrxf+cVXJQRf",
   "collapsed_sections": [],
   "include_colab_link": true,
   "mount_file_id": "https://github.com/CameronBannick/Sales_Predictions/blob/main/05_Sales_Predictions.ipynb",
   "name": "05_Sales_Predictions",
   "provenance": []
  },
  "kernelspec": {
   "display_name": "Python 3 (ipykernel)",
   "language": "python",
   "name": "python3"
  },
  "language_info": {
   "codemirror_mode": {
    "name": "ipython",
    "version": 3
   },
   "file_extension": ".py",
   "mimetype": "text/x-python",
   "name": "python",
   "nbconvert_exporter": "python",
   "pygments_lexer": "ipython3",
   "version": "3.8.13"
  },
  "toc": {
   "base_numbering": 1,
   "nav_menu": {},
   "number_sections": true,
   "sideBar": true,
   "skip_h1_title": false,
   "title_cell": "Table of Contents",
   "title_sidebar": "Contents",
   "toc_cell": false,
   "toc_position": {},
   "toc_section_display": true,
   "toc_window_display": false
  }
 },
 "nbformat": 4,
 "nbformat_minor": 1
}
